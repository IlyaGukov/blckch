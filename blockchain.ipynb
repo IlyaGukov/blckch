{
 "cells": [
  {
   "cell_type": "code",
   "execution_count": null,
   "metadata": {
    "collapsed": true
   },
   "outputs": [],
   "source": [
    "from Crypto.Util import number\n",
    "from Crypto import Random\n",
    "from Crypto.Random import random\n",
    "from Crypto.PublicKey import ElGamal\n",
    "from Crypto.Util.number import GCD\n",
    "from Crypto.Hash import SHA"
   ]
  },
  {
   "cell_type": "code",
   "execution_count": 2,
   "metadata": {
    "collapsed": true
   },
   "outputs": [],
   "source": [
    "p = 141176738696375781725204243127769890268678619091990255801090867725791766860711540511936752690462516778314493729915532970792016127308909781866550288155536629472896705613223748593785835919511841224246096551394931332973439359387621004641147628168972254601172019075209676946914948899011670138359243952372297804367\n",
    "\n",
    "from Crypto.PublicKey.ElGamal import number\n",
    "from Crypto.PublicKey.ElGamal import ElGamalobj\n",
    "\n",
    "def GenerateKey(p):\n",
    "    if p == None:\n",
    "        return ElGamal.generate(1024, Random.new().read)\n",
    "    else:\n",
    "        key = ElGamalobj()\n",
    "        key.p = p\n",
    "        key.x = number.getRandomRange(2, p-1, Random.new().read)\n",
    "        while 1:\n",
    "            key.g = number.getRandomRange(3, key.p, Random.new().read)\n",
    "            safe = 1\n",
    "            if pow(key.g, 2, key.p)==1:\n",
    "                safe=0\n",
    "            if safe and pow(key.g, (p-1) // 2, key.p)==1:\n",
    "                safe=0\n",
    "            if safe and divmod(key.p-1, key.g)[1]==0:\n",
    "                safe=0\n",
    "            ginv = number.inverse(key.g, key.p)\n",
    "            if safe and divmod(key.p-1, ginv)[1]==0:\n",
    "                safe=0\n",
    "            if safe:\n",
    "                break\n",
    "        key.y = pow(key.g, key.x, key.p)\n",
    "        return key"
   ]
  },
  {
   "cell_type": "markdown",
   "metadata": {},
   "source": [
    "Structure of a bet:\n",
    "Text. Space delimeted.\n",
    "1 - players name\n",
    "2 - event id\n",
    "3 - event overcome - исход, хз как пральна на нанглише\n",
    "4 - money value \n",
    "5 - signature"
   ]
  },
  {
   "cell_type": "code",
   "execution_count": null,
   "metadata": {
    "collapsed": true
   },
   "outputs": [],
   "source": [
    "class Player:\n",
    "    def __init__(self, name, p)\n",
    "        self.name = name\n",
    "        key = GenerateKey(p)\n",
    "        self.private_key = key.x\n",
    "        self.public_key = key.p, key.g, key.y\n",
    "    def Bet(self, event)"
   ]
  },
  {
   "cell_type": "code",
   "execution_count": null,
   "metadata": {
    "collapsed": true
   },
   "outputs": [],
   "source": [
    "class Miner:\n",
    "    def __init__(self):\n",
    "        self.blockchain = []\n",
    "        self.transactions = set([])\n",
    "    def add_trans(self, transaction):\n",
    "        self.transactions.add(transaction)\n",
    "    def mine(self):\n",
    "        "
   ]
  },
  {
   "cell_type": "code",
   "execution_count": null,
   "metadata": {
    "collapsed": true
   },
   "outputs": [],
   "source": [
    "def main(n_miners = 3, n_players = 10):\n",
    "    miners = [Miner() for i in range(n_miners)]\n",
    "    players = [Player() for i in range(n_players)]\n",
    "    "
   ]
  }
 ],
 "metadata": {
  "kernelspec": {
   "display_name": "Python 3",
   "language": "python",
   "name": "python3"
  },
  "language_info": {
   "codemirror_mode": {
    "name": "ipython",
    "version": 3
   },
   "file_extension": ".py",
   "mimetype": "text/x-python",
   "name": "python",
   "nbconvert_exporter": "python",
   "pygments_lexer": "ipython3",
   "version": "3.6.3"
  }
 },
 "nbformat": 4,
 "nbformat_minor": 2
}

{
 "cells": [
  {
   "cell_type": "code",
   "execution_count": 55,
   "metadata": {
    "collapsed": true
   },
   "outputs": [],
   "source": [
    "from Crypto.Util import number\n",
    "from Crypto import Random\n",
    "from random import random\n",
    "#from Crypto.Random import random \n",
    "from Crypto.PublicKey import ElGamal\n",
    "from Crypto.Util.number import GCD\n",
    "from Crypto.Hash import SHA"
   ]
  },
  {
   "cell_type": "code",
   "execution_count": 57,
   "metadata": {
    "collapsed": true
   },
   "outputs": [],
   "source": [
    "p = 141176738696375781725204243127769890268678619091990255801090867725791766860711540511936752690462516778314493729915532970792016127308909781866550288155536629472896705613223748593785835919511841224246096551394931332973439359387621004641147628168972254601172019075209676946914948899011670138359243952372297804367\n",
    "\n",
    "from Crypto.PublicKey.ElGamal import number\n",
    "from Crypto.PublicKey.ElGamal import ElGamalobj\n",
    "\n",
    "def GenerateKey(p = None):\n",
    "    if p == None:\n",
    "        return ElGamal.generate(1024, Random.new().read)\n",
    "    else:\n",
    "        key = ElGamalobj()\n",
    "        key.p = p\n",
    "        key.x = number.getRandomRange(2, p-1, Random.new().read)\n",
    "        while 1:\n",
    "            key.g = number.getRandomRange(3, key.p, Random.new().read)\n",
    "            safe = 1\n",
    "            if pow(key.g, 2, key.p)==1:\n",
    "                safe=0\n",
    "            if safe and pow(key.g, (p-1) // 2, key.p)==1:\n",
    "                safe=0\n",
    "            if safe and divmod(key.p-1, key.g)[1]==0:\n",
    "                safe=0\n",
    "            ginv = number.inverse(key.g, key.p)\n",
    "            if safe and divmod(key.p-1, ginv)[1]==0:\n",
    "                safe=0\n",
    "            if safe:\n",
    "                break\n",
    "        key.y = pow(key.g, key.x, key.p)\n",
    "        return key"
   ]
  },
  {
   "cell_type": "markdown",
   "metadata": {},
   "source": [
    "#### Transaction/Bet"
   ]
  },
  {
   "cell_type": "markdown",
   "metadata": {},
   "source": [
    "We are still thinking about creating a special class for bets.\n",
    "But surely there are next functions, related to it.\n",
    "\n",
    "Structure of a bet:\n",
    "\n",
    "For further implementations with alive or at least virtual players bet should be text. \n",
    "That is easy to change, but now for convenience a bet is a dictionary of these values:\n",
    "'name', 'event id', 'outcome', 'size of bet', 'public key', 'signature'. "
   ]
  },
  {
   "cell_type": "code",
   "execution_count": 110,
   "metadata": {
    "collapsed": true
   },
   "outputs": [],
   "source": [
    "def Hash_tnx(tnx):\n",
    "    text = str(tnx['event id']) + ' ' + str(tnx['outcome']) + ' ' + str(tnx['size of bet']) + \\\n",
    "    ' ' + str(tnx['name']) + str(tnx['public key']) # this line seems to be excess since changing it is useless\n",
    "    return SHA.new(text.encode('utf-8')).digest()\n",
    "\n",
    "def Sign_tnx(key, tnx):\n",
    "    h = Hash_tnx(tnx)\n",
    "    while 1:\n",
    "        k = Random.random.StrongRandom().randint(1, key.p-1)\n",
    "        if GCD(k, key.p-1) == 1: break\n",
    "    return key.sign(h, k)\n",
    "\n",
    "def Verify_tnx(key, tnx):\n",
    "    h = Hash_tnx(tnx)\n",
    "    return key.verify(h, tnx['signature'])"
   ]
  },
  {
   "cell_type": "markdown",
   "metadata": {},
   "source": [
    "#### Class Player."
   ]
  },
  {
   "cell_type": "markdown",
   "metadata": {},
   "source": [
    "While were are not ready to implement fully virtual players or interface for real players, we create puppets.\n",
    "Each player will bet his money (balance) on some outcome of events.\n",
    "He has a private and a corresponding public key to sign his bets. \n",
    "\n",
    "There is a possible variation in implementation: bets on negative outcome may be considered as negative size of bet on positive outcome. But for readbility this option was denied."
   ]
  },
  {
   "cell_type": "code",
   "execution_count": 111,
   "metadata": {},
   "outputs": [],
   "source": [
    "class Player:\n",
    "    def __init__(self, name, p, balance, bet_probability):\n",
    "        self.name = name\n",
    "        key = GenerateKey(p)\n",
    "        self.key = key\n",
    "        self.private_key = key.x\n",
    "        self.public_key = key.p, key.g, key.y\n",
    "        self.balance = balance\n",
    "        self.bets = {}\n",
    "        self.bet_probability = bet_probability\n",
    "    \n",
    "    # opening_events is a list, closing_events is a dictionary\n",
    "    def update(self, opening_events, closing_events):\n",
    "        for closing_event_number in closing_events:\n",
    "            if closing_event_number in self.bets:\n",
    "                self.balance += self.bets.pop(closing_event_number) * closing_events[closing_event_number]\n",
    "    \n",
    "    def bet(self, opening_events):\n",
    "        bets = []\n",
    "        for event_number in opening_events:\n",
    "            if random() < self.bet_probability:\n",
    "                outcome = 2 * randint(0, 1) - 1\n",
    "                size_of_bet = 10\n",
    "                tnx = {'name':self.name, 'event id':event_number, 'outcome':outcome,\n",
    "                       'size of bet':size_of_bet, 'public key':self.public_key}\n",
    "                tnx['signature'] = Sign_tnx(self.key, tnx)\n",
    "                bets.append(tnx)\n",
    "                if event_number not in self.bets:\n",
    "                    self.bets[event_number] = 0\n",
    "                self.bets[event_number] += size_of_bet * outcome\n",
    "        return bets"
   ]
  },
  {
   "cell_type": "code",
   "execution_count": 115,
   "metadata": {},
   "outputs": [
    {
     "ename": "SyntaxError",
     "evalue": "invalid syntax (<ipython-input-115-9f27be293a10>, line 19)",
     "output_type": "error",
     "traceback": [
      "\u001b[1;36m  File \u001b[1;32m\"<ipython-input-115-9f27be293a10>\"\u001b[1;36m, line \u001b[1;32m19\u001b[0m\n\u001b[1;33m    if tnx['event id']\u001b[0m\n\u001b[1;37m                      ^\u001b[0m\n\u001b[1;31mSyntaxError\u001b[0m\u001b[1;31m:\u001b[0m invalid syntax\n"
     ]
    }
   ],
   "source": [
    "class Miner:\n",
    "    def __init__(self, player_num, initial_balance, n_events):\n",
    "        self.blockchain = []\n",
    "        self.transactions = set([])\n",
    "        self.player_data = {}\n",
    "        self.initial_balance = initial_balance\n",
    "        self.player_num = player_num\n",
    "        self.event_status = ['open' for i in range(n_events)]\n",
    "        # self.block = []\n",
    "\n",
    "    def update(opening_events, closing_events):\n",
    "        return\n",
    "    def add_tnx(self, tnx):\n",
    "        if not Verify_tnx(tnx):\n",
    "            return \n",
    "        if tnx['name'] not in self.player_data:\n",
    "            self.player_data[tnx['name']] = {'balance':self.initial_balance, \n",
    "                                             'public key':tnx['public key']}\n",
    "        elif self.player_data[tnx['name']]['balance'] < float(tnx['size of bet']) or \\\n",
    "             self.player_data[tnx['name']]['public key'] != tnx['public key']:\n",
    "                return\n",
    "        \n",
    "        # add_event tnx['event id] must be here if events become dynamical\n",
    "        if self.event_status[int(tnx['event id'])] != 'open':\n",
    "            return\n",
    "        self.transactions.add(tnx)\n",
    "\n",
    "    def verify_tnx(self,tnx):\n",
    "        if tnx['value'] > 0 and tnx['event'].not_past == True and tnx['signature']# is valid...\n",
    "            return True\n",
    "        return False\n",
    "\n",
    "    def verify_block(self, block):\n",
    "        for tnx in block:\n",
    "            return True\n",
    "        \n",
    "    def mine(self):\n",
    "        self.blockchain.append(self.block)\n",
    "        self.block = []"
   ]
  },
  {
   "cell_type": "code",
   "execution_count": null,
   "metadata": {},
   "outputs": [],
   "source": []
  },
  {
   "cell_type": "code",
   "execution_count": 60,
   "metadata": {
    "collapsed": true
   },
   "outputs": [],
   "source": [
    "import hashlib\n",
    "\n",
    "def proof_of_work(header, difficulty_bits):\n",
    "    max_nonce = 2 ** 32\n",
    "    target = 2 ** (256-difficulty_bits)\n",
    "    for nonce in range(max_nonce):\n",
    "        hash_result = hashlib.sha256(str(header).encode('utf-8')+str(nonce).encode('utf-8')).hexdigest()\n",
    "\n",
    "        if int(hash_result, 16) < target:\n",
    "            return (hash_result, nonce)"
   ]
  },
  {
   "cell_type": "markdown",
   "metadata": {},
   "source": [
    "#### EventGenerator"
   ]
  },
  {
   "cell_type": "markdown",
   "metadata": {},
   "source": [
    "Generates numbers of events, which become open or trigger round.\n",
    "Any event have one of three possible statuses: not open, open, closed.\n",
    "Every event starts as not open before the first round.\n",
    "Some round it becomes open, and aligble for betting on.\n",
    "And some othey round it becomes closed. His outcomes becomes known.\n",
    "And it is now forbidden to bet on him.\n",
    "Each time yield() is called the generator returns two objects:\n",
    "\n",
    "1) A list of events opening this round\n",
    "\n",
    "2) A dictionary, whose keys are numbers of events which become close this round, \n",
    "and values are the outcomes of corresponding events. For convenience outcome value is either +1 or -1."
   ]
  },
  {
   "cell_type": "code",
   "execution_count": 61,
   "metadata": {},
   "outputs": [],
   "source": [
    "from random import randint\n",
    "\n",
    "def EventGenerator(n_events, n_rounds):\n",
    "    status = [0 for i in range(n_events)]\n",
    "    times = [sorted((randint(0, n_rounds - 2), randint(1, n_rounds - 2))) for i in range(n_events)]\n",
    "    for i in range(n_events):\n",
    "        times[i][1] += 1\n",
    "    calls = [[[],[]] for i in range(n_rounds)]\n",
    "    for event in range(n_events):\n",
    "        calls[times[event][0]][0].append(event)\n",
    "        calls[times[event][1]][1].append(event)\n",
    "    for round_number in range(n_rounds):\n",
    "        yield(calls[round_number][0], {i:(2 * randint(0,1) - 1) for i in calls[round_number][1]})"
   ]
  },
  {
   "cell_type": "code",
   "execution_count": 112,
   "metadata": {},
   "outputs": [],
   "source": [
    "def Main(n_miners = 5, miners_network_topology=[[(i - 1) % 5, (i + 1) % 5] for i in range(5)], \n",
    "         n_players = 10, n_events = 10, n_rounds = 10, initial_balance = 1000, bet_probability = 1.):\n",
    "    miners = [Miner(initial_balance) for i in range(n_miners)]\n",
    "    players = [Player('Anon' + str(i), p, initial_balance, bet_probability) for i in range(n_players)]\n",
    "    Trx_pool = []\n",
    "    event_generator = EventGenerator(n_events, n_rounds)\n",
    "    for round_number in range(n_rounds):\n",
    "        # Events\n",
    "        opening_events, closing_events = next(event_generator)\n",
    "        # Players\n",
    "        for player_num in range(n_players):\n",
    "            players[player_num].update(opening_events, closing_events)\n",
    "            Trx_pool = Trx_pool + players[player_num].bet(opening_events)\n",
    "        # Miners\n",
    "        for miner_num in range(n_miners):\n",
    "            x = 0\n",
    "    return Trx_pool, players\n",
    "Trx_pool, players = Main()"
   ]
  },
  {
   "cell_type": "code",
   "execution_count": 113,
   "metadata": {},
   "outputs": [
    {
     "name": "stdout",
     "output_type": "stream",
     "text": [
      "1020\n",
      "980\n",
      "1000\n",
      "980\n",
      "920\n",
      "1020\n",
      "980\n",
      "1040\n",
      "960\n",
      "980\n"
     ]
    }
   ],
   "source": [
    "for player in players:\n",
    "    print(player.balance)"
   ]
  }
 ],
 "metadata": {
  "kernelspec": {
   "display_name": "Python 3",
   "language": "python",
   "name": "python3"
  },
  "language_info": {
   "codemirror_mode": {
    "name": "ipython",
    "version": 3
   },
   "file_extension": ".py",
   "mimetype": "text/x-python",
   "name": "python",
   "nbconvert_exporter": "python",
   "pygments_lexer": "ipython3",
   "version": "3.6.3"
  }
 },
 "nbformat": 4,
 "nbformat_minor": 2
}

{
 "cells": [
  {
   "cell_type": "code",
   "execution_count": 135,
   "metadata": {
    "collapsed": true
   },
   "outputs": [],
   "source": [
    "from Crypto.Util import number\n",
    "from Crypto import Random\n",
    "from random import random\n",
    "#from Crypto.Random import random \n",
    "from Crypto.PublicKey import ElGamal\n",
    "from Crypto.Util.number import GCD\n",
    "# from Crypto.Hash import SHA"
   ]
  },
  {
   "cell_type": "markdown",
   "metadata": {},
   "source": [
    "#### ElGamal key generator with precalculated p\n",
    "\n",
    "Next part is taken from the package itself. The aim of this modification is to allow to generate ElGamal keys with current p.\n",
    "We use current p as big prime value search is too time-consuming during testing, while it can be easily switched back after testing."
   ]
  },
  {
   "cell_type": "code",
   "execution_count": 136,
   "metadata": {
    "collapsed": true
   },
   "outputs": [],
   "source": [
    "p = 141176738696375781725204243127769890268678619091990255801090867725791766860711540511936752690462516778314493729915532970792016127308909781866550288155536629472896705613223748593785835919511841224246096551394931332973439359387621004641147628168972254601172019075209676946914948899011670138359243952372297804367\n",
    "\n",
    "from Crypto.PublicKey.ElGamal import number\n",
    "from Crypto.PublicKey.ElGamal import ElGamalobj\n",
    "\n",
    "def GenerateKey(p = None):\n",
    "    if p == None:\n",
    "        return ElGamal.generate(1024, Random.new().read)\n",
    "    else:\n",
    "        key = ElGamalobj()\n",
    "        key.p = p\n",
    "        key.x = number.getRandomRange(2, p-1, Random.new().read)\n",
    "        while 1:\n",
    "            key.g = number.getRandomRange(3, key.p, Random.new().read)\n",
    "            safe = 1\n",
    "            if pow(key.g, 2, key.p)==1:\n",
    "                safe=0\n",
    "            if safe and pow(key.g, (p-1) // 2, key.p)==1:\n",
    "                safe=0\n",
    "            if safe and divmod(key.p-1, key.g)[1]==0:\n",
    "                safe=0\n",
    "            ginv = number.inverse(key.g, key.p)\n",
    "            if safe and divmod(key.p-1, ginv)[1]==0:\n",
    "                safe=0\n",
    "            if safe:\n",
    "                break\n",
    "        key.y = pow(key.g, key.x, key.p)\n",
    "        return key"
   ]
  },
  {
   "cell_type": "markdown",
   "metadata": {},
   "source": [
    "#### Bets\n",
    "\n",
    "We are still thinking about creating a special class for bets.\n",
    "But surely there are next functions, related to it.\n",
    "\n",
    "Structure of a bet:\n",
    "\n",
    "For further implementations with alive or at least virtual players bet should be text. \n",
    "That is easy to change, but now for convenience a bet is a dictionary of these values:\n",
    "'name', 'event', 'outcome', 'size of bet', 'public key', 'signature'. "
   ]
  },
  {
   "cell_type": "code",
   "execution_count": 137,
   "metadata": {
    "collapsed": true
   },
   "outputs": [],
   "source": [
    "def Hash_no_sig_bet(bet):\n",
    "    text = str(bet['event']) + ' ' + str(bet['outcome']) + \\\n",
    "    ' ' + str(bet['size of bet']) + ' ' + str(bet['time']) + \\\n",
    "    ' ' + str(bet['name']) + ' ' + str(bet['public key']) # this line seems to be excess since changing it is useless\n",
    "    return hashlib.sha256(text.encode('utf-8')).digest()\n",
    "\n",
    "# requires full key\n",
    "def Sign_bet(key, bet):\n",
    "    h = Hash_no_sig_bet(bet)\n",
    "    while 1:\n",
    "        k = Random.random.StrongRandom().randint(1, key.p-1)\n",
    "        if GCD(k, key.p-1) == 1: break\n",
    "    return key.sign(h, k)\n",
    "\n",
    "#requires only public part of the key\n",
    "def Verify_bet(key, bet):\n",
    "    h = Hash_no_sig_bet(bet)\n",
    "    return key.verify(h, bet['signature'])\n",
    "\n",
    "def Hash_bet(bet):\n",
    "    text = str(bet['event']) + ' ' + str(bet['outcome']) + ' ' + str(bet['size of bet']) + ' ' + str(bet['signature']) + \\\n",
    "    ' ' + str(bet['name']) + ' ' + str(bet['public key']) # this line seems to be excess since changing it is useless\n",
    "    return hashlib.sha256(text.encode('utf-8')).digest()"
   ]
  },
  {
   "cell_type": "code",
   "execution_count": null,
   "metadata": {
    "collapsed": true
   },
   "outputs": [],
   "source": []
  },
  {
   "cell_type": "markdown",
   "metadata": {},
   "source": [
    "#### Block"
   ]
  },
  {
   "cell_type": "markdown",
   "metadata": {},
   "source": [
    "Block consists of next parts: \n",
    "miner name,\n",
    "hash,\n",
    "bets,\n",
    "previous block hash,\n",
    "target,\n",
    "closing events."
   ]
  },
  {
   "cell_type": "code",
   "execution_count": 154,
   "metadata": {},
   "outputs": [],
   "source": [
    "hash_prefix_limit = 10**20\n",
    "\n",
    "class Block:\n",
    "    def __init__(self, miner_name, player_num, previous_block_hash, target):\n",
    "        self.miner_name = miner_name\n",
    "        self.player_num = player_num\n",
    "        self.bets = []\n",
    "        self.previous_block_hash = previous_block_hash\n",
    "        self.target = target\n",
    "        \n",
    "        self.bet_hash = ''\n",
    "        self.closing_events = {}\n",
    "        self.event_hash = ''\n",
    "        self.Hash = ''\n",
    "        self.prefix = ''\n",
    "    \n",
    "    def add_bet(self, bet):\n",
    "        self.bets.append(bet)\n",
    "        self.bet_hash = hashlib.sha256(self.bet_hash + Hash_bet(bet))\n",
    "    \n",
    "    def GetRecalculatedBetHash(self):\n",
    "        bet_hash = ''\n",
    "        for bet in self.bets:\n",
    "            bet_hash = hashlib.sha256(self.bet_hash + Hash_bet(bet))\n",
    "        return bet_hash\n",
    "    \n",
    "    def GetRecalculatedEventHash(self):\n",
    "        event_hash = ''\n",
    "        for bet in self.bets:\n",
    "            bet_hash = hashlib.sha256(self.bet_hash + Hash_bet(bet))\n",
    "        return bet_hash\n",
    "\n",
    "    def HashwithPrefix(self, prefix):\n",
    "        text = str(prefix) + ' ' + str(self.player_num) + ' ' +  str(self.bet_hash) +\\\n",
    "        ' ' + str(self.previous_block_hash) + ' ' + ' ' + str(self.event_hash) + ' ' + str(self.target)\n",
    "        return hashlib.sha256(text.encode('utf-8')).digest()\n",
    "    \n",
    "    def Verify(self, target):\n",
    "        true_bet_hash = self.GetRecalculatedBetHash()\n",
    "        if true_bet_hash != self.bet_hash:\n",
    "            return False\n",
    "        \n",
    "        true_enent_hash = self.GetRecalculatedEventHash()\n",
    "        if true_enent_hash != self.event_hash:\n",
    "            return False\n",
    "\n",
    "        true_hash = self.HashwithPrefix(self.prefix)\n",
    "        return self.Hash == true_hash and int(self.Hash, 10) < self.target and self.target == target\n",
    "\n",
    "    def TryToSign(self):\n",
    "        prefix = str(randint(0, hash_prefix_limit))\n",
    "        h = self.HashwithPrefix(prefix)\n",
    "        if int(h, 10) < target: \n",
    "            self.prefix = prefix\n",
    "            self.Hash = h\n",
    "            return True\n",
    "        return False\n",
    "    \n",
    "    def add_event(self, event, outcome, bet_pointers):\n",
    "        self.closing_events[event] = ((outcome, bet_pointers))\n",
    "        self.event_hash = hashlib.sha256(self.event_hash + Hash_event(event, outcome))\n",
    "        self.delete_outdated_bets(event)\n",
    "        return len(self.closing_events)\n",
    "    \n",
    "    #ineffeciate, but in short times i can't write better\n",
    "    def delete_outdated_bets(self, event):\n",
    "        valid_bets = []\n",
    "        for bet in self.bets:\n",
    "            if bet['event'] != event:\n",
    "                valid_bets.append(bet)\n",
    "        self.bet_hash = self.GetRecalculatedBetHash()"
   ]
  },
  {
   "cell_type": "code",
   "execution_count": 158,
   "metadata": {
    "collapsed": true
   },
   "outputs": [],
   "source": []
  },
  {
   "cell_type": "markdown",
   "metadata": {},
   "source": [
    "#### Class Player."
   ]
  },
  {
   "cell_type": "markdown",
   "metadata": {},
   "source": [
    "While were are not ready to implement fully virtual players or interface for real players, we create puppets.\n",
    "Each player will bet his money (balance) on some outcome of events.\n",
    "He has a private and a corresponding public key to sign his bets. \n",
    "\n",
    "There is a possible variation in implementation: bets on negative outcome may be considered as negative size of bet on positive outcome. But for readbility this option was denied."
   ]
  },
  {
   "cell_type": "code",
   "execution_count": 159,
   "metadata": {},
   "outputs": [],
   "source": [
    "class Player:\n",
    "    def __init__(self, name, p, balance, bet_probability):\n",
    "        self.name = name\n",
    "        key = GenerateKey(p)\n",
    "        self.key = key\n",
    "        self.private_key = key.x\n",
    "        self.public_key = key.p, key.g, key.y\n",
    "        self.balance = balance\n",
    "        self.bets = {}\n",
    "        self.bet_probability = bet_probability\n",
    "    \n",
    "    # opening_events is a list, closing_events is a dictionary\n",
    "    def update(self, closing_events_token_price):\n",
    "        for closing_event_number in closing_events_token_price:\n",
    "            if closing_event_number in self.bets:\n",
    "                self.balance += self.bets.pop(closing_event_number) * closing_events_token_price[closing_event_number]\n",
    "    \n",
    "    def bet(self, opening_events):\n",
    "        bets = []\n",
    "        for event_number in opening_events:\n",
    "            size_of_bet = 10\n",
    "            if random() < self.bet_probability and self.balance >= size_of_bet:\n",
    "                outcome = 2 * randint(0, 1) - 1\n",
    "                bet = {'name':self.name, 'event':event_number, 'outcome':outcome,\n",
    "                       'size of bet':size_of_bet, 'public key':self.public_key}\n",
    "                bet['signature'] = Sign_bet(self.key, bet)\n",
    "                bets.append(bet)\n",
    "                if event_number not in self.bets:\n",
    "                    self.bets[event_number] = 0\n",
    "                self.bets[event_number] += size_of_bet * outcome\n",
    "                self.balance -= size_of_bet\n",
    "        return bets\n",
    "    \n",
    "# надо написать чтобы игрок делал ставки не только на только что появившиеся евенты\n",
    "# передавать ему не открывающиеся, а открытые мб?"
   ]
  },
  {
   "cell_type": "markdown",
   "metadata": {},
   "source": [
    "#### Miners"
   ]
  },
  {
   "cell_type": "code",
   "execution_count": 163,
   "metadata": {
    "collapsed": true
   },
   "outputs": [],
   "source": [
    "class PlayersData:\n",
    "    def __init__(self, initial_balance):\n",
    "        self.initial_balance = initial_balance\n",
    "        self.balances = {}\n",
    "    \n",
    "    def UpdateAfterBet(self, bet):\n",
    "        self.balances[bet['name']] -= bet['size of bet']\n",
    "        \n",
    "    def UpdateAfterEvent(self, outcome, bets):\n",
    "        for bet in bets:\n",
    "            self.balances[bet['name']] += bet['size of bet'] * outcome * bet['outcome']\n",
    "    \n",
    "    def CanBet(self, name, bet):\n",
    "        if not bet['name'] in self.balances:\n",
    "            self.balances[bet['name']] = ((initial_balance, bet['public key']))\n",
    "        return self.balances[name] >= value"
   ]
  },
  {
   "cell_type": "code",
   "execution_count": 164,
   "metadata": {},
   "outputs": [
    {
     "ename": "SyntaxError",
     "evalue": "invalid syntax (<ipython-input-164-1ad7635aed9e>, line 52)",
     "output_type": "error",
     "traceback": [
      "\u001b[1;36m  File \u001b[1;32m\"<ipython-input-164-1ad7635aed9e>\"\u001b[1;36m, line \u001b[1;32m52\u001b[0m\n\u001b[1;33m    for block.bets\u001b[0m\n\u001b[1;37m                  ^\u001b[0m\n\u001b[1;31mSyntaxError\u001b[0m\u001b[1;31m:\u001b[0m invalid syntax\n"
     ]
    }
   ],
   "source": [
    "#майнер хранит ссылки на все закрытия, чтобы проверять какие ставки не валидны\n",
    "# сейчас нет проверки на неповторяемость\n",
    "# bet_pointer = ((block_num, bet_num))\n",
    "\n",
    "class Miner:\n",
    "    def __init__(self, name, player_num, initial_balance, n_events):\n",
    "        self.name = name\n",
    "        self.blockchain = [Block('', -1, '', 0)] # Genesis Block. Not sure if it is the right place for him\n",
    "        self.initial_balance = initial_balance\n",
    "        self.events = [(('open', [], None, None)) for i in range(n_events)]\n",
    "\n",
    "        self.player_data = {}\n",
    "        self.player_num = player_num\n",
    "        self.block = Block(miner_name, player_num, previous_block_hash, target)\n",
    "        self.balances = PlayersData(initial_balance)\n",
    "\n",
    "    def CloseEvents(self, closing_events):\n",
    "        for event in closing_events:\n",
    "            if self.events[event][0] == 'open':\n",
    "                self.events[event] = (('closed', self.events[event][1], closing_events[event], \n",
    "                                       self.block.add_event(event, closing_events[event])))\n",
    "                self.block.add_event(event)\n",
    "                self.CloseEvent(event)\n",
    "\n",
    "    def GetTokenPrize(self, event):\n",
    "        \n",
    "    def add_bet(self, bet):\n",
    "        if not self.verify_bet(bet):\n",
    "            return False\n",
    "        # add_event(bet['event']) must be here if events become dynamical\n",
    "        self.block.bets.add(bet)\n",
    "        self.events\n",
    "        return True\n",
    "\n",
    "    def verify_bet(self, bet):\n",
    "        if not Verify_bet(bet):\n",
    "            return False\n",
    "        if bet['size of bet'] <= 0:\n",
    "            return False\n",
    "        if self.events[int(bet['event'])][0] != 'open':\n",
    "            return False\n",
    "        return True\n",
    "        \n",
    "    def Mine(self):\n",
    "        success = self.block.TryToSign()\n",
    "        if success:\n",
    "            self.blockchain.append(success)\n",
    "            self.block = \n",
    "    \n",
    "    def RecalculateBalances(self):\n",
    "        self.player_data = {}\n",
    "        for block in self.blockchain:\n",
    "            for bet in block.bets:\n",
    "                "
   ]
  },
  {
   "cell_type": "code",
   "execution_count": null,
   "metadata": {},
   "outputs": [],
   "source": []
  },
  {
   "cell_type": "code",
   "execution_count": 60,
   "metadata": {
    "collapsed": true
   },
   "outputs": [],
   "source": [
    "import hashlib\n",
    "\n",
    "def proof_of_work(header, difficulty_bits):\n",
    "    max_nonce = 2 ** 32\n",
    "    target = 2 ** (256-difficulty_bits)\n",
    "    for nonce in range(max_nonce):\n",
    "        hash_result = hashlib.sha256(str(header).encode('utf-8')+str(nonce).encode('utf-8')).hexdigest()\n",
    "\n",
    "        if int(hash_result, 16) < target:\n",
    "            return (hash_result, nonce)"
   ]
  },
  {
   "cell_type": "markdown",
   "metadata": {},
   "source": [
    "#### EventGenerator"
   ]
  },
  {
   "cell_type": "markdown",
   "metadata": {},
   "source": [
    "Generates numbers of events, which become open or trigger round.\n",
    "Any event have one of three possible statuses: not open, open, closed.\n",
    "Every event starts as not open before the first round.\n",
    "Some round it becomes open, and aligble for betting on.\n",
    "And some othey round it becomes closed. His outcomes becomes known.\n",
    "And it is now forbidden to bet on him.\n",
    "Each time yield() is called the generator returns two objects:\n",
    "\n",
    "1) A list of events opening this round\n",
    "\n",
    "2) A dictionary, whose keys are numbers of events which become close this round, \n",
    "and values are the outcomes of corresponding events. For convenience outcome value is either +1 or -1."
   ]
  },
  {
   "cell_type": "code",
   "execution_count": 116,
   "metadata": {},
   "outputs": [],
   "source": [
    "from random import randint\n",
    "\n",
    "def EventGenerator(n_events, n_rounds):\n",
    "    times = [sorted((randint(0, n_rounds - 2), randint(1, n_rounds - 2))) for i in range(n_events)]\n",
    "    for i in range(n_events):\n",
    "        times[i][1] += 1\n",
    "    calls = [[[],[]] for i in range(n_rounds)]\n",
    "    for event in range(n_events):\n",
    "        calls[times[event][0]][0].append(event)\n",
    "        calls[times[event][1]][1].append(event)\n",
    "    for round_number in range(n_rounds):\n",
    "        yield(calls[round_number][0], {i:(2 * randint(0,1) - 1) for i in calls[round_number][1]})"
   ]
  },
  {
   "cell_type": "code",
   "execution_count": 124,
   "metadata": {},
   "outputs": [],
   "source": [
    "def Main(n_miners = 5, miners_network_topology=[[(i - 1) % 5, (i + 1) % 5] for i in range(5)], \n",
    "         n_players = 10, n_events = 10, n_rounds = 10, initial_balance = 1000, bet_probability = 1.):\n",
    "    miners = [Miner('Miner' + str(i), i, initial_balance, n_events) for i in range(n_miners)]\n",
    "    players = [Player('Player' + str(i), p, initial_balance, bet_probability) for i in range(n_players)]\n",
    "    Bet_pool = []\n",
    "    event_generator = EventGenerator(n_events, n_rounds)\n",
    "    for round_number in range(n_rounds):\n",
    "        # miners update, mine, reach consensus\n",
    "        for miner_num in range(n_miners):\n",
    "            miners[miner_num].update\n",
    "        \n",
    "        \n",
    "        # Events\n",
    "        # add token prize calculation\n",
    "        opening_events, closing_events = next(event_generator)\n",
    "        # Players\n",
    "        for player_num in range(n_players):\n",
    "            players[player_num].update(opening_events, closing_events)\n",
    "            Bet_pool = Bet_pool + players[player_num].bet(opening_events)\n",
    "        # Miners\n",
    "        \n",
    "            x = 0\n",
    "    return Bet_pool, players\n",
    "Bet_pool, players = Main()"
   ]
  },
  {
   "cell_type": "code",
   "execution_count": 125,
   "metadata": {},
   "outputs": [
    {
     "name": "stdout",
     "output_type": "stream",
     "text": [
      "1020\n",
      "1040\n",
      "960\n",
      "980\n",
      "1040\n",
      "980\n",
      "960\n",
      "1020\n",
      "960\n",
      "1020\n"
     ]
    }
   ],
   "source": [
    "for player in players:\n",
    "    print(player.balance)"
   ]
  }
 ],
 "metadata": {
  "kernelspec": {
   "display_name": "Python 3",
   "language": "python",
   "name": "python3"
  },
  "language_info": {
   "codemirror_mode": {
    "name": "ipython",
    "version": 3
   },
   "file_extension": ".py",
   "mimetype": "text/x-python",
   "name": "python",
   "nbconvert_exporter": "python",
   "pygments_lexer": "ipython3",
   "version": "3.6.3"
  }
 },
 "nbformat": 4,
 "nbformat_minor": 2
}
